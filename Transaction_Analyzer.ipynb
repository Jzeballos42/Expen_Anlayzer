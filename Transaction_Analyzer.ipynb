{
 "cells": [
  {
   "cell_type": "code",
   "execution_count": 10,
   "id": "62c7b28d-fcc8-45ad-a37f-0d9bfc267029",
   "metadata": {},
   "outputs": [
    {
     "name": "stdout",
     "output_type": "stream",
     "text": [
      "$749.17 + Investment Return\n",
      "$-11.54 + Utilities\n",
      "$-247.58 + Online Shopping\n",
      "$981.17 + Investment Return\n",
      "$-410.65 + Rent\n",
      "$310.6 + Rent\n",
      "$563.7 + Gift\n",
      "$220.79 + Salary\n",
      "$-49.85 + Car Maintenance\n",
      "$308.49 + Salary\n",
      "$-205.55 + Car Maintenance\n",
      "$870.64 + Salary\n",
      "$-881.51 + Utilities\n",
      "$518.14 + Salary\n",
      "$-264.66 + Groceries\n"
     ]
    }
   ],
   "source": [
    "data = [\n",
    "  (749.17, \"Investment Return\"),\n",
    "  (-11.54, \"Utilities\"),\n",
    "  (-247.58, \"Online Shopping\"),\n",
    "  (981.17, \"Investment Return\"),\n",
    "  (-410.65, \"Rent\"),\n",
    "  (310.60, \"Rent\"),\n",
    "  (563.70, \"Gift\"),\n",
    "  (220.79, \"Salary\"),\n",
    "  (-49.85, \"Car Maintenance\"),\n",
    "  (308.49, \"Salary\"),\n",
    "  (-205.55, \"Car Maintenance\"),\n",
    "  (870.64, \"Salary\"),\n",
    "  (-881.51, \"Utilities\"),\n",
    "  (518.14, \"Salary\"),\n",
    "  (-264.66, \"Groceries\")\n",
    "]\n",
    "def print_transactions(transactions):\n",
    "    for transaction in transactions:\n",
    "        amount, statement = transaction\n",
    "        print(f\"${amount} + {statement}\")\n",
    "print_transactions(data)"
   ]
  },
  {
   "cell_type": "code",
   "execution_count": 87,
   "id": "7bc31d4c-dc0a-4861-8d7b-bab21fbc6e80",
   "metadata": {},
   "outputs": [
    {
     "name": "stdout",
     "output_type": "stream",
     "text": [
      "4522.7\n",
      "-2071.34\n",
      "2451.3599999999997\n"
     ]
    }
   ],
   "source": [
    "def print_summary(transactions):\n",
    "    deposits = [transaction[0] for transaction in transactions if transaction[0] >= 0]\n",
    "    total_deposited = sum(deposits)\n",
    "    print(total_deposited)\n",
    "    withdrawals = [transaction[0] for transaction in transactions if transaction[0] <= 0]\n",
    "    total_withdrawals = sum(withdrawals)\n",
    "    print(total_withdrawals)\n",
    "    balance = total_deposited + total_withdrawals\n",
    "    print(balance)\n",
    "\n",
    "print_summary(data)"
   ]
  },
  {
   "cell_type": "code",
   "execution_count": 89,
   "id": "bb0652a6-67c6-47b2-b6ca-5d031720f28e",
   "metadata": {},
   "outputs": [
    {
     "name": "stdout",
     "output_type": "stream",
     "text": [
      "(-881.51, 'Utilities')\n",
      "(981.17, 'Investment Return')\n"
     ]
    }
   ],
   "source": [
    "def analyze_transactions(transactions):\n",
    "    transactions.sort()\n",
    "    largest_withdrawal = transactions[0]\n",
    "    largest_deposit = transactions[-1]\n",
    "    print(largest_withdrawal)\n",
    "    print(largest_deposit)\n",
    "analyze_transactions(data)\n",
    "    "
   ]
  },
  {
   "cell_type": "code",
   "execution_count": null,
   "id": "3f6f5f64-2101-49ce-9ad7-8736fd47ee7c",
   "metadata": {},
   "outputs": [
    {
     "name": "stdout",
     "output_type": "stream",
     "text": [
      "\n",
      "Transaction analyzer\n",
      "\n",
      "Choose an option:\n",
      "1. Print summary (type'print')\n",
      "2. Analyze transactions (type'analyze')\n",
      "3. Stop program (type'stop')\n"
     ]
    }
   ],
   "source": [
    "def analyze_transactions(transactions):\n",
    "  transactions.sort()\n",
    "  largest_withdrawal = transactions[0]\n",
    "  largest_deposit = transactions[-1]\n",
    "  print(f\"Largest witdrawals: {largest_withdrawal}\")\n",
    "  print(f\"Largest deposit: {largest_deposit}\")\n",
    "  deposits = [transaction[0] for transaction in transactions if transaction[0] >= 0]\n",
    "  total_deposit = sum(deposits)\n",
    "  average_deposit = total_deposit / len(deposits) if deposits else 0\n",
    "  print(f\"Average deposit: {average_deposit}\")\n",
    "  withdrawals = [transaction[0]for transaction in transactions if transaction[0] <=0]\n",
    "  totals_withdrawals = sum(withdrawals)\n",
    "  average_withdrawals = totals_withdrawals / len(withdrawals) if withdrawals else 0 \n",
    "  print(f\"Average withdrawal:{average_withdrawals}\")\n",
    " \n",
    "print(\"\\nTransaction analyzer\")\n",
    "while True:\n",
    "  print(\"\\nChoose an option:\")\n",
    "  print(\"1. Print summary (type'print')\")\n",
    "  print(\"2. Analyze transactions (type'analyze')\")\n",
    "  print(\"3. Stop program (type'stop')\")\n",
    "  choice = input(\"Enter your option:\")\n",
    "  if choice.lower() == \"print\":\n",
    "    print_summary(data)\n",
    "  elif choice. lower() == \"analyze\":\n",
    "    analyze_transactions(data)\n",
    "  elif choice.lower() == \"stop\":\n",
    "    break\n",
    "  else:\n",
    "    print(\"Invalid choice\")"
   ]
  },
  {
   "cell_type": "code",
   "execution_count": null,
   "id": "69a9c06b-d92a-41a2-a1a9-657434639d47",
   "metadata": {},
   "outputs": [],
   "source": []
  }
 ],
 "metadata": {
  "kernelspec": {
   "display_name": "Python 3 (ipykernel)",
   "language": "python",
   "name": "python3"
  },
  "language_info": {
   "codemirror_mode": {
    "name": "ipython",
    "version": 3
   },
   "file_extension": ".py",
   "mimetype": "text/x-python",
   "name": "python",
   "nbconvert_exporter": "python",
   "pygments_lexer": "ipython3",
   "version": "3.12.7"
  }
 },
 "nbformat": 4,
 "nbformat_minor": 5
}
